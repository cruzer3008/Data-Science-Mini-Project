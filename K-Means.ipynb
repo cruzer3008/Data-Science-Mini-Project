{
 "cells": [
  {
   "cell_type": "code",
   "execution_count": 19,
   "metadata": {},
   "outputs": [],
   "source": [
    "import numpy as np\n",
    "import pandas as pd\n",
    "import matplotlib.pyplot as plt\n",
    "import seaborn as sns\n",
    "import random as rd"
   ]
  },
  {
   "cell_type": "code",
   "execution_count": 20,
   "metadata": {},
   "outputs": [],
   "source": [
    "df = np.array([[185, 72],\n",
    "              [170, 56],\n",
    "              [168, 60],\n",
    "              [179, 68],\n",
    "              [182, 72],\n",
    "              [188,77],\n",
    "              [180,71],\n",
    "              [180,70],\n",
    "              [183,84],\n",
    "              [180,88],\n",
    "              [180,67],\n",
    "              [177,76]])"
   ]
  },
  {
   "cell_type": "code",
   "execution_count": 52,
   "metadata": {},
   "outputs": [
    {
     "name": "stdout",
     "output_type": "stream",
     "text": [
      "[[185  72]\n",
      " [170  56]\n",
      " [168  60]\n",
      " [179  68]\n",
      " [182  72]\n",
      " [188  77]\n",
      " [180  71]\n",
      " [180  70]\n",
      " [183  84]\n",
      " [180  88]\n",
      " [180  67]\n",
      " [177  76]]\n"
     ]
    }
   ],
   "source": [
    "print(df)"
   ]
  },
  {
   "cell_type": "code",
   "execution_count": 22,
   "metadata": {},
   "outputs": [
    {
     "data": {
      "image/png": "[encoded data removed]",
      "text/plain": [
       "<Figure size 432x288 with 1 Axes>"
      ]
     },
     "metadata": {
      "needs_background": "light"
     },
     "output_type": "display_data"
    }
   ],
   "source": [
    "plt.scatter(df[:,0],df[:,1],s=150)\n",
    "plt.show()"
   ]
  },
  {
   "cell_type": "code",
   "execution_count": 41,
   "metadata": {},
   "outputs": [],
   "source": [
    "m = df.shape[0]\n",
    "n = df.shape[1]\n",
    "\n",
    "iterations = 500\n",
    "K=2"
   ]
  },
  {
   "cell_type": "code",
   "execution_count": 42,
   "metadata": {},
   "outputs": [
    {
     "name": "stdout",
     "output_type": "stream",
     "text": [
      "12 2\n"
     ]
    }
   ],
   "source": [
    "print(m,n)"
   ]
  },
  {
   "cell_type": "code",
   "execution_count": 43,
   "metadata": {},
   "outputs": [],
   "source": [
    "Cent = np.array([]).reshape(n,0) #Initialising an empty array for K centroids... The reshape() function is applies so that the dimension of Cent matches with that of the dataframe\n",
    "for i in range(K):\n",
    "    r = rd.randint(0,m-1) # Generates a random number between 0 and m, where m is the number of tuples\n",
    "    Cent = np.c_[Cent,df[r]]"
   ]
  },
  {
   "cell_type": "code",
   "execution_count": 44,
   "metadata": {},
   "outputs": [
    {
     "name": "stdout",
     "output_type": "stream",
     "text": [
      "(2, 2)\n",
      "[[180. 180.]\n",
      " [ 70.  67.]]\n"
     ]
    }
   ],
   "source": [
    "print(Cent.shape)\n",
    "print(Cent) #The printed array is an array consisting of five randomly chosen centroids"
   ]
  },
  {
   "cell_type": "code",
   "execution_count": 45,
   "metadata": {},
   "outputs": [],
   "source": [
    "op = {}"
   ]
  },
  {
   "cell_type": "markdown",
   "metadata": {},
   "source": [
    "The main algorithm has two components each of which has been separately shown below and the combined and run later in the program"
   ]
  },
  {
   "cell_type": "code",
   "execution_count": 46,
   "metadata": {},
   "outputs": [],
   "source": [
    "# distance = np.array([]).reshape(m,0) #An empty array is initialised to stores distance of each point from each of the two centroids\n",
    "# for k in range(K):\n",
    "#     temp = np.sum((df-Cent[:,k])**2,axis=1) # The EUCLIDIAN DISTANCE is calculalted as follow and then appended to the array\n",
    "#     distance = np.c_[distance,temp]\n",
    "# print(distance)\n",
    "# C = np.argmin(distance,axis=1)+1 # .argmin() Returns the indices of the minimum values along an axis.\n",
    "# print(C)"
   ]
  },
  {
   "cell_type": "markdown",
   "metadata": {},
   "source": [
    "This is the second module which classifies the points by making a dictionary, wherein the key is the cluster number and value for that keyy is the array of elements which belong to that cluster"
   ]
  },
  {
   "cell_type": "code",
   "execution_count": 34,
   "metadata": {},
   "outputs": [],
   "source": [
    "# Y = {} #An empty dictionary is initialised\n",
    "# for k in range(K):\n",
    "#     Y[k+1] = np.array([]).reshape(2,0) #The key number in the dictionary starts from 1 to K, which is the number of clusters\n",
    "# for i in range(m):\n",
    "#     Y[C[i]] = np.c_[Y[C[i]],df[i]] # Here m is 12, i.e the number of tuples, C[i] is the the cluster number assigned to that tuple, refer the above step.\n",
    "# for k in range(K):\n",
    "#     Y[k+1] = Y[k+1].T #This step takes transpose of the value stored in for the key K\n",
    "# for k in range(K):\n",
    "#     Cent[:,k] = np.mean(Y[k+1],axis=0) #Here we are calculating the new centroid after kth iteration of clustering is complete"
   ]
  },
  {
   "cell_type": "markdown",
   "metadata": {},
   "source": [
    "The cell below shows both the above explained steps combined together"
   ]
  },
  {
   "cell_type": "code",
   "execution_count": 47,
   "metadata": {},
   "outputs": [],
   "source": [
    "for i in range(iterations):\n",
    "    Distance=np.array([]).reshape(m,0) \n",
    "    for k in range(K):\n",
    "        tempDist=np.sum((df-Cent[:,k])**2,axis=1)\n",
    "        Distance=np.c_[Distance,tempDist]\n",
    "    C=np.argmin(Distance,axis=1)+1\n",
    "    \n",
    "   \n",
    "    Y={}\n",
    "    for k in range(K):\n",
    "        Y[k+1]=np.array([]).reshape(2,0)\n",
    "    for i in range(m):\n",
    "        Y[C[i]]=np.c_[Y[C[i]],df[i]]\n",
    "    \n",
    "    for k in range(K):\n",
    "        Y[k+1]=Y[k+1].T\n",
    "    for k in range(K):\n",
    "          Cent[:,k]=np.mean(Y[k+1],axis=0)\n",
    "    Output=Y"
   ]
  },
  {
   "cell_type": "code",
   "execution_count": 48,
   "metadata": {},
   "outputs": [
    {
     "name": "stdout",
     "output_type": "stream",
     "text": [
      "{1: array([[185.,  72.],\n",
      "       [182.,  72.],\n",
      "       [188.,  77.],\n",
      "       [180.,  71.],\n",
      "       [180.,  70.],\n",
      "       [183.,  84.],\n",
      "       [180.,  88.],\n",
      "       [177.,  76.]]), 2: array([[170.,  56.],\n",
      "       [168.,  60.],\n",
      "       [179.,  68.],\n",
      "       [180.,  67.]])}\n"
     ]
    }
   ],
   "source": [
    "print(Y)"
   ]
  },
  {
   "cell_type": "code",
   "execution_count": 49,
   "metadata": {},
   "outputs": [
    {
     "data": {
      "text/plain": [
       "Text(0.5, 1.0, 'Unclustured Data')"
      ]
     },
     "execution_count": 49,
     "metadata": {},
     "output_type": "execute_result"
    },
    {
     "data": {
      "image/png": "[encoded data removed]",
      "text/plain": [
       "<Figure size 432x288 with 1 Axes>"
      ]
     },
     "metadata": {
      "needs_background": "light"
     },
     "output_type": "display_data"
    }
   ],
   "source": [
    "plt.scatter(df[:,0],df[:,1])\n",
    "plt.xlabel(\"Height\")\n",
    "plt.ylabel(\"Weight\")\n",
    "plt.title(\"Unclustured Data\")"
   ]
  },
  {
   "cell_type": "code",
   "execution_count": 51,
   "metadata": {},
   "outputs": [
    {
     "data": {
      "text/plain": [
       "Text(0, 0.5, 'Weight')"
      ]
     },
     "execution_count": 51,
     "metadata": {},
     "output_type": "execute_result"
    },
    {
     "data": {
      "image/png": "[encoded data removed]",
      "text/plain": [
       "<Figure size 432x288 with 1 Axes>"
      ]
     },
     "metadata": {
      "needs_background": "light"
     },
     "output_type": "display_data"
    }
   ],
   "source": [
    "color = ['red','green']\n",
    "labels = ['c1','c2']\n",
    "for k in range(K):\n",
    "    plt.scatter(Output[k+1][:,0],Output[k+1][:,1],c=color[k],label=labels[k])\n",
    "plt.scatter(Cent[0,:],Cent[1,:],s=300,c='black',label='Centroids')\n",
    "plt.xlabel('Height')\n",
    "plt.ylabel('Weight')\n"
   ]
  }
 ],
 "metadata": {
  "kernelspec": {
   "display_name": "Python 3",
   "language": "python",
   "name": "python3"
  },
  "language_info": {
   "codemirror_mode": {
    "name": "ipython",
    "version": 3
   },
   "file_extension": ".py",
   "mimetype": "text/x-python",
   "name": "python",
   "nbconvert_exporter": "python",
   "pygments_lexer": "ipython3",
   "version": "3.7.1"
  }
 },
 "nbformat": 4,
 "nbformat_minor": 2
}
